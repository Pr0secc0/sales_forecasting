{
 "cells": [
  {
   "cell_type": "code",
   "execution_count": null,
   "id": "9d42e8f4",
   "metadata": {
    "_cell_guid": "b1076dfc-b9ad-4769-8c92-a6c4dae69d19",
    "_uuid": "8f2839f25d086af736a60e9eeb907d3b93b6e0e5",
    "papermill": {
     "duration": 0.012798,
     "end_time": "2025-03-24T19:24:21.145943",
     "exception": false,
     "start_time": "2025-03-24T19:24:21.133145",
     "status": "completed"
    },
    "tags": []
   },
   "outputs": [],
   "source": []
  },
  {
   "cell_type": "markdown",
   "id": "f41cb4fa",
   "metadata": {
    "papermill": {
     "duration": 0.011756,
     "end_time": "2025-03-24T19:24:21.170454",
     "exception": false,
     "start_time": "2025-03-24T19:24:21.158698",
     "status": "completed"
    },
    "tags": []
   },
   "source": [
    "# INITIAL REMARKS :\n",
    "\n",
    "This script and all the analyses performed in this project aim to show possible approaches to a forecasting case study.\n",
    "In the following lines of code, several models, techniques and ideas have been proposed.\n",
    "Not all the proposed models are necessarily the best option or the best idea for this specific task, the reason why I proposed them is to provide an interesting approach to the analysis, also many other options could be explored but only a few examples have been proposed (the tools and techniques of machine learning and data science are so many that it would take a long time to present them all)\n",
    "I hope that the readers will find my work useful!!"
   ]
  },
  {
   "cell_type": "code",
   "execution_count": 1,
   "id": "41a2964a",
   "metadata": {
    "execution": {
     "iopub.execute_input": "2025-03-24T19:24:21.196480Z",
     "iopub.status.busy": "2025-03-24T19:24:21.196137Z",
     "iopub.status.idle": "2025-03-24T19:24:40.625874Z",
     "shell.execute_reply": "2025-03-24T19:24:40.624584Z"
    },
    "papermill": {
     "duration": 19.445487,
     "end_time": "2025-03-24T19:24:40.628061",
     "exception": false,
     "start_time": "2025-03-24T19:24:21.182574",
     "status": "completed"
    },
    "tags": []
   },
   "outputs": [],
   "source": [
    "import pandas as pd\n",
    "import numpy as np\n",
    "import matplotlib.pyplot as plt\n",
    "import os\n",
    "import scipy.stats as st\n",
    "import seaborn as sns\n",
    "import xgboost as xgb\n",
    "from sklearn.model_selection import train_test_split\n",
    "from sklearn.metrics import accuracy_score\n",
    "from sklearn.model_selection import GridSearchCV\n",
    "from sklearn import metrics\n",
    "from sklearn.preprocessing import LabelEncoder\n",
    "import tensorflow as tf\n",
    "from tensorflow.keras import datasets,layers,models\n",
    "from sklearn.ensemble import RandomForestRegressor\n",
    "from sklearn.ensemble import BaggingRegressor\n",
    "from sklearn.preprocessing import StandardScaler\n",
    "from sklearn.neighbors import KNeighborsRegressor\n",
    "from tensorflow.keras.models import Model"
   ]
  },
  {
   "cell_type": "code",
   "execution_count": 2,
   "id": "8bd53357",
   "metadata": {
    "execution": {
     "iopub.execute_input": "2025-03-24T19:24:40.657246Z",
     "iopub.status.busy": "2025-03-24T19:24:40.656427Z",
     "iopub.status.idle": "2025-03-24T19:24:40.662827Z",
     "shell.execute_reply": "2025-03-24T19:24:40.661425Z"
    },
    "papermill": {
     "duration": 0.024591,
     "end_time": "2025-03-24T19:24:40.665088",
     "exception": false,
     "start_time": "2025-03-24T19:24:40.640497",
     "status": "completed"
    },
    "tags": []
   },
   "outputs": [],
   "source": [
    "# get the directory\n",
    "\n",
    "base_dir='/kaggle/input/rohlik-sales-forecasting-challenge-v2'\n",
    "train_path=os.path.join(base_dir,'sales_train.csv')\n",
    "test_path=os.path.join(base_dir,'sales_test.csv')\n",
    "inventori_path='/kaggle/input/rohlik-sales-forecasting-challenge-v2/inventory.csv'\n",
    "calendar_path='/kaggle/input/rohlik-sales-forecasting-challenge-v2/calendar.csv'"
   ]
  },
  {
   "cell_type": "code",
   "execution_count": 3,
   "id": "f206633a",
   "metadata": {
    "execution": {
     "iopub.execute_input": "2025-03-24T19:24:40.698265Z",
     "iopub.status.busy": "2025-03-24T19:24:40.697864Z",
     "iopub.status.idle": "2025-03-24T19:24:48.653148Z",
     "shell.execute_reply": "2025-03-24T19:24:48.652137Z"
    },
    "papermill": {
     "duration": 7.972928,
     "end_time": "2025-03-24T19:24:48.655286",
     "exception": false,
     "start_time": "2025-03-24T19:24:40.682358",
     "status": "completed"
    },
    "tags": []
   },
   "outputs": [],
   "source": [
    "#upload datasets\n",
    "train=pd.read_csv(train_path)\n",
    "test=pd.read_csv(test_path)\n",
    "inventory=pd.read_csv(inventori_path)\n",
    "calendar=pd.read_csv(calendar_path)"
   ]
  },
  {
   "cell_type": "code",
   "execution_count": 4,
   "id": "1332f772",
   "metadata": {
    "execution": {
     "iopub.execute_input": "2025-03-24T19:24:48.681250Z",
     "iopub.status.busy": "2025-03-24T19:24:48.680917Z",
     "iopub.status.idle": "2025-03-24T19:24:48.684603Z",
     "shell.execute_reply": "2025-03-24T19:24:48.683728Z"
    },
    "papermill": {
     "duration": 0.018227,
     "end_time": "2025-03-24T19:24:48.686262",
     "exception": false,
     "start_time": "2025-03-24T19:24:48.668035",
     "status": "completed"
    },
    "tags": []
   },
   "outputs": [],
   "source": [
    "#train.head()"
   ]
  },
  {
   "cell_type": "code",
   "execution_count": 5,
   "id": "d088b235",
   "metadata": {
    "execution": {
     "iopub.execute_input": "2025-03-24T19:24:48.711183Z",
     "iopub.status.busy": "2025-03-24T19:24:48.710816Z",
     "iopub.status.idle": "2025-03-24T19:24:51.955277Z",
     "shell.execute_reply": "2025-03-24T19:24:51.954047Z"
    },
    "papermill": {
     "duration": 3.259333,
     "end_time": "2025-03-24T19:24:51.957379",
     "exception": false,
     "start_time": "2025-03-24T19:24:48.698046",
     "status": "completed"
    },
    "tags": []
   },
   "outputs": [],
   "source": [
    "train=train.drop_duplicates()"
   ]
  },
  {
   "cell_type": "code",
   "execution_count": 6,
   "id": "2b6dbfe7",
   "metadata": {
    "execution": {
     "iopub.execute_input": "2025-03-24T19:24:51.984442Z",
     "iopub.status.busy": "2025-03-24T19:24:51.984084Z",
     "iopub.status.idle": "2025-03-24T19:24:52.163350Z",
     "shell.execute_reply": "2025-03-24T19:24:52.162219Z"
    },
    "papermill": {
     "duration": 0.194596,
     "end_time": "2025-03-24T19:24:52.165445",
     "exception": false,
     "start_time": "2025-03-24T19:24:51.970849",
     "status": "completed"
    },
    "tags": []
   },
   "outputs": [],
   "source": [
    "#if the 'sales discount' is <0 means that there is no disc.\n",
    "# set the this values == 0\n",
    "\n",
    "def fix_discount(discount):\n",
    "    discount=np.where(discount<0,0,discount)\n",
    "    return discount\n",
    "\n",
    "\n",
    "train['type_0_discount']=fix_discount(train['type_0_discount'])\n",
    "train['type_1_discount']=fix_discount(train['type_1_discount'])\n",
    "train['type_2_discount']=fix_discount(train['type_2_discount'])\n",
    "train['type_3_discount']=fix_discount(train['type_3_discount'])\n",
    "train['type_4_discount']=fix_discount(train['type_4_discount'])\n",
    "train['type_5_discount']=fix_discount(train['type_5_discount'])\n",
    "train['type_6_discount']=fix_discount(train['type_6_discount'])"
   ]
  },
  {
   "cell_type": "code",
   "execution_count": 7,
   "id": "0f60fdeb",
   "metadata": {
    "execution": {
     "iopub.execute_input": "2025-03-24T19:24:52.191122Z",
     "iopub.status.busy": "2025-03-24T19:24:52.190747Z",
     "iopub.status.idle": "2025-03-24T19:25:04.663049Z",
     "shell.execute_reply": "2025-03-24T19:25:04.661887Z"
    },
    "papermill": {
     "duration": 12.487481,
     "end_time": "2025-03-24T19:25:04.665235",
     "exception": false,
     "start_time": "2025-03-24T19:24:52.177754",
     "status": "completed"
    },
    "tags": []
   },
   "outputs": [],
   "source": [
    "# remove na from sales column\n",
    "train=train.dropna(subset=['sales'])\n",
    "\n",
    "\n",
    "#split the date in : day, month, year\n",
    "train[['year','month','day']]=train['date'].str.split('-',expand=True)\n",
    "\n",
    "\n"
   ]
  },
  {
   "cell_type": "code",
   "execution_count": 8,
   "id": "aea62d01",
   "metadata": {
    "execution": {
     "iopub.execute_input": "2025-03-24T19:25:04.692018Z",
     "iopub.status.busy": "2025-03-24T19:25:04.691511Z",
     "iopub.status.idle": "2025-03-24T19:25:08.123992Z",
     "shell.execute_reply": "2025-03-24T19:25:08.122744Z"
    },
    "papermill": {
     "duration": 3.447305,
     "end_time": "2025-03-24T19:25:08.126056",
     "exception": false,
     "start_time": "2025-03-24T19:25:04.678751",
     "status": "completed"
    },
    "tags": []
   },
   "outputs": [],
   "source": [
    "train=train.merge(calendar,on=['date','warehouse'],how='left')\n",
    "#train.head()"
   ]
  },
  {
   "cell_type": "code",
   "execution_count": 9,
   "id": "3a86f70b",
   "metadata": {
    "execution": {
     "iopub.execute_input": "2025-03-24T19:25:08.151545Z",
     "iopub.status.busy": "2025-03-24T19:25:08.151183Z",
     "iopub.status.idle": "2025-03-24T19:25:08.771453Z",
     "shell.execute_reply": "2025-03-24T19:25:08.770348Z"
    },
    "papermill": {
     "duration": 0.635489,
     "end_time": "2025-03-24T19:25:08.773654",
     "exception": false,
     "start_time": "2025-03-24T19:25:08.138165",
     "status": "completed"
    },
    "tags": []
   },
   "outputs": [],
   "source": [
    "train=train.drop(columns=['date'])"
   ]
  },
  {
   "cell_type": "markdown",
   "id": "e669b67a",
   "metadata": {
    "papermill": {
     "duration": 0.012247,
     "end_time": "2025-03-24T19:25:08.798587",
     "exception": false,
     "start_time": "2025-03-24T19:25:08.786340",
     "status": "completed"
    },
    "tags": []
   },
   "source": [
    "# EDA ; merging ; cleaning\n",
    "\n",
    "First of all I start with looking at the sales evolution over time.\n",
    "The time horizon available include also 2020 : COVID--> I expect a lower sales volume in that year, it might be a suitable solution to remove this year from the analysis as it could be considered as it is a \"break\" in the considered scenario."
   ]
  },
  {
   "cell_type": "code",
   "execution_count": 10,
   "id": "b0c562b1",
   "metadata": {
    "execution": {
     "iopub.execute_input": "2025-03-24T19:25:08.824609Z",
     "iopub.status.busy": "2025-03-24T19:25:08.824250Z",
     "iopub.status.idle": "2025-03-24T19:25:08.833097Z",
     "shell.execute_reply": "2025-03-24T19:25:08.832057Z"
    },
    "papermill": {
     "duration": 0.023796,
     "end_time": "2025-03-24T19:25:08.835071",
     "exception": false,
     "start_time": "2025-03-24T19:25:08.811275",
     "status": "completed"
    },
    "tags": []
   },
   "outputs": [],
   "source": [
    "def trend_plot(train, timepoint, group='warehouse', sales='sales'):\n",
    "    \n",
    "    warehouse=train[group].sample(4)\n",
    "\n",
    "    fig,axis =plt.subplots(2,2,figsize=(20,20))\n",
    "    \n",
    "    \n",
    "    \n",
    "    df_plot1=train[train[group]==warehouse.iloc[0]]\n",
    "    df_plot1=df_plot1.groupby([timepoint])[sales].sum().reset_index()\n",
    "    axis[0,0].plot(df_plot1[timepoint],df_plot1[sales],marker='o',linestyle='-')\n",
    "    axis[0,0].set_title(f\"{warehouse.iloc[0]}\")\n",
    "    \n",
    "    df_plot2=train[train[group]==warehouse.iloc[1]]\n",
    "    df_plot2=df_plot2.groupby([timepoint])[sales].sum().reset_index()\n",
    "    axis[0,1].plot(df_plot2[timepoint],df_plot2[sales],marker='o',linestyle='-')\n",
    "    axis[0,1].set_title(f\"{warehouse.iloc[1]}\")\n",
    "    \n",
    "    \n",
    "    df_plot3=train[train[group]==warehouse.iloc[2]]\n",
    "    df_plot3=df_plot3.groupby([timepoint])[sales].sum().reset_index()\n",
    "    axis[1,0].plot(df_plot3[timepoint],df_plot3[sales],marker='o',linestyle='-')\n",
    "    axis[1,0].set_title(f\"{warehouse.iloc[2]}\")\n",
    "    \n",
    "    \n",
    "    df_plot4=train[train[group]==warehouse.iloc[3]]\n",
    "    df_plot4=df_plot4.groupby([timepoint])[sales].sum().reset_index()\n",
    "    axis[1,1].plot(df_plot4[timepoint],df_plot4[sales],marker='o',linestyle='-')\n",
    "    axis[1,1].set_title(f\"{warehouse.iloc[3]}\")\n",
    "    \n",
    "    \n",
    "    \n",
    "    plt.show()\n"
   ]
  },
  {
   "cell_type": "code",
   "execution_count": 11,
   "id": "ae1fbff3",
   "metadata": {
    "execution": {
     "iopub.execute_input": "2025-03-24T19:25:08.860026Z",
     "iopub.status.busy": "2025-03-24T19:25:08.859565Z",
     "iopub.status.idle": "2025-03-24T19:25:08.863465Z",
     "shell.execute_reply": "2025-03-24T19:25:08.862560Z"
    },
    "papermill": {
     "duration": 0.018374,
     "end_time": "2025-03-24T19:25:08.865181",
     "exception": false,
     "start_time": "2025-03-24T19:25:08.846807",
     "status": "completed"
    },
    "tags": []
   },
   "outputs": [],
   "source": [
    "#trend_plot(train,timepoint='year')"
   ]
  },
  {
   "cell_type": "markdown",
   "id": "2a053f2c",
   "metadata": {
    "papermill": {
     "duration": 0.014416,
     "end_time": "2025-03-24T19:25:08.895008",
     "exception": false,
     "start_time": "2025-03-24T19:25:08.880592",
     "status": "completed"
    },
    "tags": []
   },
   "source": [
    "As said before there is a problem related to an extornal uncontrolled phenomena as COVID19.\n",
    "Moreover it is possible to see that there is an anomalous drop in 2024 which is contrasting the growing trend from 2021 to 2023. This is due to the data availability, indeed we have data only up to June-2024.\n",
    "\n",
    "It may be a suitable solution to drop both years and proceed with the analysis.\n",
    "\n",
    "POSSIBLE SECONDARY APPROACH :\n",
    "thanks to kalman filter it is possible to predict the next sales value based on the previous observation, after using this method to retrieve possible value up to the end of 2024 proceed with other method for sales prediction\n",
    "POSSIBLE DRAWBACK: I am increasing variability at each step, this means that we sacrify reliabilty of data"
   ]
  },
  {
   "cell_type": "code",
   "execution_count": 12,
   "id": "b0905e6d",
   "metadata": {
    "execution": {
     "iopub.execute_input": "2025-03-24T19:25:08.921467Z",
     "iopub.status.busy": "2025-03-24T19:25:08.921112Z",
     "iopub.status.idle": "2025-03-24T19:25:08.925341Z",
     "shell.execute_reply": "2025-03-24T19:25:08.924045Z"
    },
    "papermill": {
     "duration": 0.018993,
     "end_time": "2025-03-24T19:25:08.927289",
     "exception": false,
     "start_time": "2025-03-24T19:25:08.908296",
     "status": "completed"
    },
    "tags": []
   },
   "outputs": [],
   "source": [
    "#trend_plot(train,timepoint='month')"
   ]
  },
  {
   "cell_type": "code",
   "execution_count": 13,
   "id": "97d31751",
   "metadata": {
    "execution": {
     "iopub.execute_input": "2025-03-24T19:25:08.952380Z",
     "iopub.status.busy": "2025-03-24T19:25:08.952027Z",
     "iopub.status.idle": "2025-03-24T19:25:11.363410Z",
     "shell.execute_reply": "2025-03-24T19:25:11.362190Z"
    },
    "papermill": {
     "duration": 2.426509,
     "end_time": "2025-03-24T19:25:11.365753",
     "exception": false,
     "start_time": "2025-03-24T19:25:08.939244",
     "status": "completed"
    },
    "tags": []
   },
   "outputs": [],
   "source": [
    "train = train[train['year'] != 2020]"
   ]
  },
  {
   "cell_type": "code",
   "execution_count": 14,
   "id": "fb6ea8fa",
   "metadata": {
    "execution": {
     "iopub.execute_input": "2025-03-24T19:25:11.392655Z",
     "iopub.status.busy": "2025-03-24T19:25:11.392288Z",
     "iopub.status.idle": "2025-03-24T19:25:11.399905Z",
     "shell.execute_reply": "2025-03-24T19:25:11.398709Z"
    },
    "papermill": {
     "duration": 0.023072,
     "end_time": "2025-03-24T19:25:11.401789",
     "exception": false,
     "start_time": "2025-03-24T19:25:11.378717",
     "status": "completed"
    },
    "tags": []
   },
   "outputs": [
    {
     "data": {
      "text/plain": [
       "\"plt.hist(train['sales'],bins=200)\\nplt.show\""
      ]
     },
     "execution_count": 14,
     "metadata": {},
     "output_type": "execute_result"
    }
   ],
   "source": [
    "# now let's look at sales distribution\n",
    "'''plt.hist(train['sales'],bins=200)\n",
    "plt.show'''#there are a lot of zeros and the values are strongly right skewed"
   ]
  },
  {
   "cell_type": "code",
   "execution_count": 15,
   "id": "b75dac16",
   "metadata": {
    "execution": {
     "iopub.execute_input": "2025-03-24T19:25:11.429504Z",
     "iopub.status.busy": "2025-03-24T19:25:11.429134Z",
     "iopub.status.idle": "2025-03-24T19:25:11.451519Z",
     "shell.execute_reply": "2025-03-24T19:25:11.450324Z"
    },
    "papermill": {
     "duration": 0.038119,
     "end_time": "2025-03-24T19:25:11.453429",
     "exception": false,
     "start_time": "2025-03-24T19:25:11.415310",
     "status": "completed"
    },
    "tags": []
   },
   "outputs": [
    {
     "data": {
      "text/plain": [
       "49207"
      ]
     },
     "execution_count": 15,
     "metadata": {},
     "output_type": "execute_result"
    }
   ],
   "source": [
    "train['sales'][train['sales']==0].count()"
   ]
  },
  {
   "cell_type": "code",
   "execution_count": 16,
   "id": "b60f756a",
   "metadata": {
    "execution": {
     "iopub.execute_input": "2025-03-24T19:25:11.479936Z",
     "iopub.status.busy": "2025-03-24T19:25:11.479527Z",
     "iopub.status.idle": "2025-03-24T19:25:11.485256Z",
     "shell.execute_reply": "2025-03-24T19:25:11.484203Z"
    },
    "papermill": {
     "duration": 0.020695,
     "end_time": "2025-03-24T19:25:11.486765",
     "exception": false,
     "start_time": "2025-03-24T19:25:11.466070",
     "status": "completed"
    },
    "tags": []
   },
   "outputs": [
    {
     "data": {
      "text/plain": [
       "\"plt.hist(np.log(train['sales']+0.5),bins=100)\\nplt.show()\""
      ]
     },
     "execution_count": 16,
     "metadata": {},
     "output_type": "execute_result"
    }
   ],
   "source": [
    "'''plt.hist(np.log(train['sales']+0.5),bins=100)\n",
    "plt.show()'''"
   ]
  },
  {
   "cell_type": "markdown",
   "id": "c0b014b8",
   "metadata": {
    "papermill": {
     "duration": 0.012079,
     "end_time": "2025-03-24T19:25:11.512001",
     "exception": false,
     "start_time": "2025-03-24T19:25:11.499922",
     "status": "completed"
    },
    "tags": []
   },
   "source": [
    "By applying the log transformation to the sales it is possible to shape their distribution as a normal-like distribution(clearly not a perfect normal but still good enought to help possible algorithms). We can also see a problem related to the zero-sales. Having no further information those value may be or not anomalies and negatively influence the results reliability."
   ]
  },
  {
   "cell_type": "code",
   "execution_count": 17,
   "id": "6ce6286a",
   "metadata": {
    "execution": {
     "iopub.execute_input": "2025-03-24T19:25:11.537750Z",
     "iopub.status.busy": "2025-03-24T19:25:11.537344Z",
     "iopub.status.idle": "2025-03-24T19:25:11.541415Z",
     "shell.execute_reply": "2025-03-24T19:25:11.540264Z"
    },
    "papermill": {
     "duration": 0.019207,
     "end_time": "2025-03-24T19:25:11.543375",
     "exception": false,
     "start_time": "2025-03-24T19:25:11.524168",
     "status": "completed"
    },
    "tags": []
   },
   "outputs": [],
   "source": [
    "#trend_plot(train,timepoint='day')"
   ]
  },
  {
   "cell_type": "code",
   "execution_count": 18,
   "id": "8e4c777e",
   "metadata": {
    "execution": {
     "iopub.execute_input": "2025-03-24T19:25:11.570086Z",
     "iopub.status.busy": "2025-03-24T19:25:11.569697Z",
     "iopub.status.idle": "2025-03-24T19:25:11.575377Z",
     "shell.execute_reply": "2025-03-24T19:25:11.574301Z"
    },
    "papermill": {
     "duration": 0.021069,
     "end_time": "2025-03-24T19:25:11.577096",
     "exception": false,
     "start_time": "2025-03-24T19:25:11.556027",
     "status": "completed"
    },
    "tags": []
   },
   "outputs": [
    {
     "data": {
      "text/plain": [
       "\"fig,axis=plt.subplots(2,1,figsize=(15,15))\\nsns.scatterplot(x=train['sales'],y=train['sell_price_main'],ax=axis[0])\\nsns.scatterplot(x=np.log(train['sales']+0.5),y=np.log(train['sell_price_main']),ax=axis[1])\\nplt.show()\""
      ]
     },
     "execution_count": 18,
     "metadata": {},
     "output_type": "execute_result"
    }
   ],
   "source": [
    "'''fig,axis=plt.subplots(2,1,figsize=(15,15))\n",
    "sns.scatterplot(x=train['sales'],y=train['sell_price_main'],ax=axis[0])\n",
    "sns.scatterplot(x=np.log(train['sales']+0.5),y=np.log(train['sell_price_main']),ax=axis[1])\n",
    "plt.show()'''"
   ]
  },
  {
   "cell_type": "markdown",
   "id": "356f86cc",
   "metadata": {
    "papermill": {
     "duration": 0.011743,
     "end_time": "2025-03-24T19:25:11.601007",
     "exception": false,
     "start_time": "2025-03-24T19:25:11.589264",
     "status": "completed"
    },
    "tags": []
   },
   "source": [
    "No log-transformation : low price--> higher sales ; high price-->lower sales\n",
    "\n",
    "Yes log-transormation : no clear trend between the variable\n",
    "\n",
    "\n",
    "NOTE: These graphs do not consider the variability of price within the product. This means that relationships like low price == high sales may not be related to price elasticity, but instead could suggest the existence of three categories (clusters) of product such as: low margin - medium margin - high margin and clearly the lower the margin the higher the breakeven required, hence the higher the overall sales\n",
    "\n",
    "This observation aims to outline the importance of understanding the context and how different considerations can lead to completely different managerial decisions. Since the goal of this project is prediction and not interpretability, I will not go into detail and focus only on error reduction, but even considering this, the above observation could help to develop additional variables (e.g. cluster labels) that could improve performance\n",
    "\n",
    "ADDITIONAL NOTE: From the above graphs we can see some values ​​that could be considered anomalies or outliers, for example there is a value with a really extremely high price (no transformation) or small localized clusters (with transformation)"
   ]
  },
  {
   "cell_type": "code",
   "execution_count": 19,
   "id": "405bc82d",
   "metadata": {
    "execution": {
     "iopub.execute_input": "2025-03-24T19:25:11.626819Z",
     "iopub.status.busy": "2025-03-24T19:25:11.626369Z",
     "iopub.status.idle": "2025-03-24T19:25:12.447109Z",
     "shell.execute_reply": "2025-03-24T19:25:12.445934Z"
    },
    "papermill": {
     "duration": 0.836295,
     "end_time": "2025-03-24T19:25:12.449532",
     "exception": false,
     "start_time": "2025-03-24T19:25:11.613237",
     "status": "completed"
    },
    "tags": []
   },
   "outputs": [],
   "source": [
    "train=train[train['sales']!=0]"
   ]
  },
  {
   "cell_type": "code",
   "execution_count": 20,
   "id": "a7183d26",
   "metadata": {
    "execution": {
     "iopub.execute_input": "2025-03-24T19:25:12.483311Z",
     "iopub.status.busy": "2025-03-24T19:25:12.482935Z",
     "iopub.status.idle": "2025-03-24T19:25:13.171772Z",
     "shell.execute_reply": "2025-03-24T19:25:13.170617Z"
    },
    "papermill": {
     "duration": 0.704063,
     "end_time": "2025-03-24T19:25:13.173775",
     "exception": false,
     "start_time": "2025-03-24T19:25:12.469712",
     "status": "completed"
    },
    "tags": []
   },
   "outputs": [
    {
     "data": {
      "text/plain": [
       "Index(['unique_id', 'warehouse', 'total_orders', 'sales', 'sell_price_main',\n",
       "       'availability', 'type_0_discount', 'type_1_discount', 'type_2_discount',\n",
       "       'type_3_discount', 'type_4_discount', 'type_5_discount',\n",
       "       'type_6_discount', 'year', 'month', 'day', 'holiday_name', 'holiday',\n",
       "       'shops_closed'],\n",
       "      dtype='object')"
      ]
     },
     "execution_count": 20,
     "metadata": {},
     "output_type": "execute_result"
    }
   ],
   "source": [
    "dropped_columns=['winter_school_holidays','school_holidays']\n",
    "train=train.drop(columns=dropped_columns)\n",
    "train.columns"
   ]
  },
  {
   "cell_type": "code",
   "execution_count": 21,
   "id": "7f29b610",
   "metadata": {
    "execution": {
     "iopub.execute_input": "2025-03-24T19:25:13.200105Z",
     "iopub.status.busy": "2025-03-24T19:25:13.199727Z",
     "iopub.status.idle": "2025-03-24T19:25:13.803924Z",
     "shell.execute_reply": "2025-03-24T19:25:13.802389Z"
    },
    "papermill": {
     "duration": 0.619745,
     "end_time": "2025-03-24T19:25:13.806244",
     "exception": false,
     "start_time": "2025-03-24T19:25:13.186499",
     "status": "completed"
    },
    "tags": []
   },
   "outputs": [],
   "source": [
    "#only the highest discount is used for sales--> instead of using one column for each disc, just use only the applied discount\n",
    "multiple_discount=['type_0_discount', 'type_1_discount', 'type_2_discount',\n",
    "       'type_3_discount', 'type_4_discount', 'type_5_discount',\n",
    "       'type_6_discount']\n",
    "\n",
    "\n",
    "train['discount']=train[multiple_discount].max(axis=1)\n",
    "#train['discount'].head()"
   ]
  },
  {
   "cell_type": "code",
   "execution_count": 22,
   "id": "e044b46e",
   "metadata": {
    "execution": {
     "iopub.execute_input": "2025-03-24T19:25:13.833386Z",
     "iopub.status.busy": "2025-03-24T19:25:13.832837Z",
     "iopub.status.idle": "2025-03-24T19:25:14.427207Z",
     "shell.execute_reply": "2025-03-24T19:25:14.425807Z"
    },
    "papermill": {
     "duration": 0.610085,
     "end_time": "2025-03-24T19:25:14.429275",
     "exception": false,
     "start_time": "2025-03-24T19:25:13.819190",
     "status": "completed"
    },
    "tags": []
   },
   "outputs": [],
   "source": [
    "train=train.drop(columns=multiple_discount)"
   ]
  },
  {
   "cell_type": "code",
   "execution_count": 23,
   "id": "2cd31710",
   "metadata": {
    "execution": {
     "iopub.execute_input": "2025-03-24T19:25:14.456719Z",
     "iopub.status.busy": "2025-03-24T19:25:14.456339Z",
     "iopub.status.idle": "2025-03-24T19:25:16.093343Z",
     "shell.execute_reply": "2025-03-24T19:25:16.092310Z"
    },
    "papermill": {
     "duration": 1.652979,
     "end_time": "2025-03-24T19:25:16.095328",
     "exception": false,
     "start_time": "2025-03-24T19:25:14.442349",
     "status": "completed"
    },
    "tags": []
   },
   "outputs": [],
   "source": [
    "train=train.merge(inventory,on=['unique_id','warehouse'],how='left')"
   ]
  },
  {
   "cell_type": "code",
   "execution_count": 24,
   "id": "d7a502ca",
   "metadata": {
    "execution": {
     "iopub.execute_input": "2025-03-24T19:25:16.121074Z",
     "iopub.status.busy": "2025-03-24T19:25:16.120690Z",
     "iopub.status.idle": "2025-03-24T19:25:18.407756Z",
     "shell.execute_reply": "2025-03-24T19:25:18.406535Z"
    },
    "papermill": {
     "duration": 2.301831,
     "end_time": "2025-03-24T19:25:18.409511",
     "exception": false,
     "start_time": "2025-03-24T19:25:16.107680",
     "status": "completed"
    },
    "tags": []
   },
   "outputs": [
    {
     "data": {
      "text/plain": [
       "unique_id              False\n",
       "warehouse              False\n",
       "total_orders           False\n",
       "sales                  False\n",
       "sell_price_main        False\n",
       "availability           False\n",
       "year                   False\n",
       "month                  False\n",
       "day                    False\n",
       "holiday_name           False\n",
       "holiday                False\n",
       "shops_closed           False\n",
       "discount               False\n",
       "product_unique_id      False\n",
       "name                   False\n",
       "L1_category_name_en    False\n",
       "L2_category_name_en    False\n",
       "L3_category_name_en    False\n",
       "L4_category_name_en    False\n",
       "dtype: bool"
      ]
     },
     "execution_count": 24,
     "metadata": {},
     "output_type": "execute_result"
    }
   ],
   "source": [
    "train['holiday_name']=train['holiday_name'].fillna('No_holiday')\n",
    "train.isna().any()"
   ]
  },
  {
   "cell_type": "code",
   "execution_count": 25,
   "id": "a7f253d0",
   "metadata": {
    "execution": {
     "iopub.execute_input": "2025-03-24T19:25:18.437815Z",
     "iopub.status.busy": "2025-03-24T19:25:18.437413Z",
     "iopub.status.idle": "2025-03-24T19:25:19.105078Z",
     "shell.execute_reply": "2025-03-24T19:25:19.103922Z"
    },
    "papermill": {
     "duration": 0.68381,
     "end_time": "2025-03-24T19:25:19.106993",
     "exception": false,
     "start_time": "2025-03-24T19:25:18.423183",
     "status": "completed"
    },
    "tags": []
   },
   "outputs": [
    {
     "data": {
      "text/plain": [
       "Index(['unique_id', 'warehouse', 'total_orders', 'sales', 'sell_price_main',\n",
       "       'availability', 'year', 'month', 'day', 'holiday_name', 'holiday',\n",
       "       'shops_closed', 'discount', 'product_unique_id', 'name',\n",
       "       'L1_category_name_en'],\n",
       "      dtype='object')"
      ]
     },
     "execution_count": 25,
     "metadata": {},
     "output_type": "execute_result"
    }
   ],
   "source": [
    "#in order to avoid over complexity I decide to rely only on the more general category description\n",
    "category_detail=['L2_category_name_en','L3_category_name_en','L4_category_name_en']\n",
    "train=train.drop(columns=category_detail)\n",
    "train.columns"
   ]
  },
  {
   "cell_type": "code",
   "execution_count": 26,
   "id": "a6dac53b",
   "metadata": {
    "execution": {
     "iopub.execute_input": "2025-03-24T19:25:19.134434Z",
     "iopub.status.busy": "2025-03-24T19:25:19.134071Z",
     "iopub.status.idle": "2025-03-24T19:25:25.521282Z",
     "shell.execute_reply": "2025-03-24T19:25:25.520122Z"
    },
    "papermill": {
     "duration": 6.402965,
     "end_time": "2025-03-24T19:25:25.523512",
     "exception": false,
     "start_time": "2025-03-24T19:25:19.120547",
     "status": "completed"
    },
    "tags": []
   },
   "outputs": [],
   "source": [
    "#now that we have all the variable let's encode the categorical\n",
    "encoder=LabelEncoder()\n",
    "category=['L1_category_name_en','name','holiday_name','day','month','year','warehouse']\n",
    "for col in category:\n",
    "    train[col]=encoder.fit_transform(train[col])\n",
    "    \n",
    "\n",
    "#train.head()"
   ]
  },
  {
   "cell_type": "markdown",
   "id": "ce63ca5b",
   "metadata": {
    "papermill": {
     "duration": 0.013572,
     "end_time": "2025-03-24T19:25:25.550323",
     "exception": false,
     "start_time": "2025-03-24T19:25:25.536751",
     "status": "completed"
    },
    "tags": []
   },
   "source": [
    "# Start of the analysis"
   ]
  },
  {
   "cell_type": "code",
   "execution_count": 27,
   "id": "202eea37",
   "metadata": {
    "execution": {
     "iopub.execute_input": "2025-03-24T19:25:25.578829Z",
     "iopub.status.busy": "2025-03-24T19:25:25.578394Z",
     "iopub.status.idle": "2025-03-24T19:25:27.283528Z",
     "shell.execute_reply": "2025-03-24T19:25:27.282362Z"
    },
    "papermill": {
     "duration": 1.721743,
     "end_time": "2025-03-24T19:25:27.285721",
     "exception": false,
     "start_time": "2025-03-24T19:25:25.563978",
     "status": "completed"
    },
    "tags": []
   },
   "outputs": [
    {
     "name": "stdout",
     "output_type": "stream",
     "text": [
      "(3958160, 15) (3958160,)\n"
     ]
    }
   ],
   "source": [
    "# split in train and validation\n",
    "\n",
    "x=train.drop(columns=['sales'])\n",
    "y=train['sales']\n",
    "print(x.shape , y.shape)\n",
    "x_train,x_val,y_train,y_val=train_test_split(x,y,test_size=0.3,random_state=42)"
   ]
  },
  {
   "cell_type": "code",
   "execution_count": 28,
   "id": "d89efb0a",
   "metadata": {
    "execution": {
     "iopub.execute_input": "2025-03-24T19:25:27.313173Z",
     "iopub.status.busy": "2025-03-24T19:25:27.312757Z",
     "iopub.status.idle": "2025-03-24T19:25:27.318882Z",
     "shell.execute_reply": "2025-03-24T19:25:27.317735Z"
    },
    "papermill": {
     "duration": 0.022022,
     "end_time": "2025-03-24T19:25:27.320549",
     "exception": false,
     "start_time": "2025-03-24T19:25:27.298527",
     "status": "completed"
    },
    "tags": []
   },
   "outputs": [],
   "source": [
    "#Function that allow to directly implement and valuate a model\n",
    "\n",
    "def model_implementation(x_train,y_train,x_val,y_val,parameters,model):\n",
    "    grid_search=GridSearchCV(estimator=model,param_grid=parameters,cv=3)\n",
    "    grid_search=grid_search.fit(x_train,y_train)\n",
    "    print(f\"Best params : {grid_search.best_params_} ; Best score : {grid_search.best_score_}\")\n",
    "    print(f\"\\n R2 : {grid_search.score(x_val,y_val)}\")\n",
    "    MSE_train=metrics.mean_squared_error(y_train,grid_search.predict(x_train))\n",
    "    MSE_val=metrics.mean_squared_error(y_val,grid_search.predict(x_val))\n",
    "    R2_train=metrics.r2_score(y_train,grid_search.predict(x_train))\n",
    "    R2_val=metrics.r2_score(y_val,grid_search.predict(x_val))\n",
    "    print(f\"\\n train :\\n MSE {MSE_train} ; \\nR2 {R2_train} ; \\n test : \\nMSE {MSE_val} ; \\nR2 {R2_val}\")\n",
    "    return grid_search.best_estimator_"
   ]
  },
  {
   "cell_type": "markdown",
   "id": "6709c243",
   "metadata": {
    "papermill": {
     "duration": 0.072383,
     "end_time": "2025-03-24T19:25:27.405826",
     "exception": false,
     "start_time": "2025-03-24T19:25:27.333443",
     "status": "completed"
    },
    "tags": []
   },
   "source": [
    "# XGB"
   ]
  },
  {
   "cell_type": "code",
   "execution_count": 29,
   "id": "6da4c363",
   "metadata": {
    "execution": {
     "iopub.execute_input": "2025-03-24T19:25:27.432304Z",
     "iopub.status.busy": "2025-03-24T19:25:27.431924Z",
     "iopub.status.idle": "2025-03-24T19:25:27.436629Z",
     "shell.execute_reply": "2025-03-24T19:25:27.435782Z"
    },
    "papermill": {
     "duration": 0.019874,
     "end_time": "2025-03-24T19:25:27.438220",
     "exception": false,
     "start_time": "2025-03-24T19:25:27.418346",
     "status": "completed"
    },
    "tags": []
   },
   "outputs": [],
   "source": [
    "model_xgb = xgb.XGBRegressor()\n",
    "\n",
    "\n",
    "parameters = {\n",
    "    'objective': ['reg:squarederror'],\n",
    "    'n_estimators': [50, 100, 200],  \n",
    "    'max_depth': [4, 5, 6],\n",
    "    'learning_rate': [0.1, 0.2, 0.5],\n",
    "    'eval_metric': ['error'],  \n",
    "    'gamma': [0.1, 0.3, 0.5],\n",
    "      \n",
    "}"
   ]
  },
  {
   "cell_type": "code",
   "execution_count": 30,
   "id": "0ac76988",
   "metadata": {
    "execution": {
     "iopub.execute_input": "2025-03-24T19:25:27.465057Z",
     "iopub.status.busy": "2025-03-24T19:25:27.464651Z",
     "iopub.status.idle": "2025-03-24T19:25:27.468421Z",
     "shell.execute_reply": "2025-03-24T19:25:27.467424Z"
    },
    "papermill": {
     "duration": 0.019083,
     "end_time": "2025-03-24T19:25:27.470054",
     "exception": false,
     "start_time": "2025-03-24T19:25:27.450971",
     "status": "completed"
    },
    "tags": []
   },
   "outputs": [],
   "source": [
    "\n",
    "#xgb=model_implementation(x_train,y_train,x_val,y_val,parameters,model_xgb)\n",
    "#xgb\n"
   ]
  },
  {
   "cell_type": "markdown",
   "id": "89acf93d",
   "metadata": {
    "papermill": {
     "duration": 0.01211,
     "end_time": "2025-03-24T19:25:27.494841",
     "exception": false,
     "start_time": "2025-03-24T19:25:27.482731",
     "status": "completed"
    },
    "tags": []
   },
   "source": [
    "Best params : {'eval_metric': 'error', 'gamma': 0.1, 'learning_rate': 0.5, 'max_depth': 6, 'n_estimators': 200, 'objective': 'reg:squarederror'} ; Best score : 0.9565499877791751\n",
    "\n",
    "R2 : 0.9561076620090418\n",
    "\n",
    "train : MSE 4613.997615713352 ; R2 0.9644785744462597 ; test : MSE 5907.978941655915 ; R2 0.9561076620090418"
   ]
  },
  {
   "cell_type": "code",
   "execution_count": 31,
   "id": "2bed6817",
   "metadata": {
    "execution": {
     "iopub.execute_input": "2025-03-24T19:25:27.521411Z",
     "iopub.status.busy": "2025-03-24T19:25:27.521072Z",
     "iopub.status.idle": "2025-03-24T19:25:28.008987Z",
     "shell.execute_reply": "2025-03-24T19:25:28.007868Z"
    },
    "papermill": {
     "duration": 0.503778,
     "end_time": "2025-03-24T19:25:28.011149",
     "exception": false,
     "start_time": "2025-03-24T19:25:27.507371",
     "status": "completed"
    },
    "tags": []
   },
   "outputs": [],
   "source": [
    "\n",
    "\n",
    "y_train_log=y_train.copy()\n",
    "x_train_log=x_train.copy()\n",
    "x_train_log['sell_price_main']=np.log(x_train_log['sell_price_main']+0.5)\n",
    "y_train_log=np.log(y_train_log+0.5)\n",
    "\n",
    "x_val_log=x_val.copy()\n",
    "x_val_log['sell_price_main']=np.log(x_val_log['sell_price_main']+0.5)\n",
    "y_val_log=y_val.copy()\n",
    "y_val_log=np.log(y_val_log+0.5)\n",
    "\n",
    "\n",
    "#model_implementation(x_train_log,y_train_log,x_val_log,y_val_log,parameters,model_xgb)\n",
    "\n"
   ]
  },
  {
   "cell_type": "markdown",
   "id": "ec8c2f07",
   "metadata": {
    "papermill": {
     "duration": 0.012694,
     "end_time": "2025-03-24T19:25:28.038376",
     "exception": false,
     "start_time": "2025-03-24T19:25:28.025682",
     "status": "completed"
    },
    "tags": []
   },
   "source": [
    "Best params : {'eval_metric': 'error', 'gamma': 0.3, 'learning_rate': 0.5, 'max_depth': 6, 'n_estimators': 200, 'objective': 'reg:squarederror'} ; Best score : 0.8398016361144597\n",
    "\n",
    "R2 : 0.8403017839678054\n",
    "\n",
    "train : MSE 0.238940071886664 ; R2 0.8427676985836671 ; test : MSE 0.24307858790297063 ; R2 0.8403017839678054"
   ]
  },
  {
   "cell_type": "markdown",
   "id": "f84f5ba0",
   "metadata": {
    "papermill": {
     "duration": 0.01315,
     "end_time": "2025-03-24T19:25:28.065953",
     "exception": false,
     "start_time": "2025-03-24T19:25:28.052803",
     "status": "completed"
    },
    "tags": []
   },
   "source": [
    "# DENSE NETWORK"
   ]
  },
  {
   "cell_type": "code",
   "execution_count": 32,
   "id": "5d0a42a8",
   "metadata": {
    "execution": {
     "iopub.execute_input": "2025-03-24T19:25:28.094653Z",
     "iopub.status.busy": "2025-03-24T19:25:28.094248Z",
     "iopub.status.idle": "2025-03-24T19:25:28.101340Z",
     "shell.execute_reply": "2025-03-24T19:25:28.100043Z"
    },
    "papermill": {
     "duration": 0.023602,
     "end_time": "2025-03-24T19:25:28.103283",
     "exception": false,
     "start_time": "2025-03-24T19:25:28.079681",
     "status": "completed"
    },
    "tags": []
   },
   "outputs": [],
   "source": [
    "def simple_dense(x_train,y_train,x_val,y_val):\n",
    "    \n",
    "    model=tf.keras.models.Sequential()\n",
    "\n",
    "    model.add(layers.Dense(64,input_shape=(x_train.shape[1],),activation='relu'))\n",
    "    model.add(layers.Dense(64,activation='relu'))\n",
    "    model.add(layers.Dropout(0.3))\n",
    "\n",
    "    model.add(layers.Dense(32,activation='relu'))\n",
    "    model.add(layers.Dense(16,activation='relu'))\n",
    "    model.add(layers.Dense(1))\n",
    "    model.summary()\n",
    "\n",
    "    model.compile(loss='mean_squared_error',optimizer='adam')\n",
    "    callbacks = [tf.keras.callbacks.TensorBoard(log_dir='./logs') ]\n",
    "    model.fit(x_train,y_train,epochs=20,batch_size=32,verbose=1,callbacks=callbacks)\n",
    "    score=model.evaluate(x_val,y_val,verbose=1)\n",
    "    print(\"Validation loss:\", score)"
   ]
  },
  {
   "cell_type": "code",
   "execution_count": 33,
   "id": "781c0a3e",
   "metadata": {
    "execution": {
     "iopub.execute_input": "2025-03-24T19:25:28.132341Z",
     "iopub.status.busy": "2025-03-24T19:25:28.131996Z",
     "iopub.status.idle": "2025-03-24T19:25:28.136341Z",
     "shell.execute_reply": "2025-03-24T19:25:28.135058Z"
    },
    "papermill": {
     "duration": 0.021375,
     "end_time": "2025-03-24T19:25:28.138225",
     "exception": false,
     "start_time": "2025-03-24T19:25:28.116850",
     "status": "completed"
    },
    "tags": []
   },
   "outputs": [],
   "source": [
    "#simple_dense(x_train,y_train,x_val,y_val)"
   ]
  },
  {
   "cell_type": "markdown",
   "id": "15484e9a",
   "metadata": {
    "papermill": {
     "duration": 0.01263,
     "end_time": "2025-03-24T19:25:28.164035",
     "exception": false,
     "start_time": "2025-03-24T19:25:28.151405",
     "status": "completed"
    },
    "tags": []
   },
   "source": [
    "Validation loss: 57283.203125"
   ]
  },
  {
   "cell_type": "code",
   "execution_count": 34,
   "id": "e4767547",
   "metadata": {
    "execution": {
     "iopub.execute_input": "2025-03-24T19:25:28.191334Z",
     "iopub.status.busy": "2025-03-24T19:25:28.190987Z",
     "iopub.status.idle": "2025-03-24T19:25:28.198796Z",
     "shell.execute_reply": "2025-03-24T19:25:28.197683Z"
    },
    "papermill": {
     "duration": 0.023345,
     "end_time": "2025-03-24T19:25:28.200422",
     "exception": false,
     "start_time": "2025-03-24T19:25:28.177077",
     "status": "completed"
    },
    "tags": []
   },
   "outputs": [],
   "source": [
    "def medium_dense(x_train,y_train,x_val,y_val,epochs,batch):\n",
    "    model=tf.keras.models.Sequential()\n",
    "\n",
    "    model.add(layers.Dense(64,input_shape=(x_train.shape[1],),activation='relu'))\n",
    "    #model.add(layers.Dense(64,activation='relu'))\n",
    "    #model.add(layers.Dropout(0.3))\n",
    "    \n",
    "    model.add(layers.Dense(32,activation='relu'))\n",
    "    #model.add(layers.Dense(32,activation='relu'))\n",
    "    \n",
    "    model.add(layers.Dense(16,activation='relu'))\n",
    "    model.add(layers.Dense(16,activation='relu'))\n",
    "    \n",
    "    #model.add(layers.Dense(8,activation='relu'))\n",
    "    #model.add(layers.Dense(8,activation='relu'))\n",
    "\n",
    "    model.add(layers.Dense(1))\n",
    "\n",
    "    model.summary()\n",
    "    optimizer = tf.keras.optimizers.Adam(learning_rate=0.0001)\n",
    "    model.compile(loss='mean_squared_error',optimizer=optimizer,metrics=[tf.metrics.RootMeanSquaredError(),\n",
    "                                                                      tf.metrics.MeanAbsoluteError()])\n",
    "    callbacks = [tf.keras.callbacks.TensorBoard(log_dir='./logs')]\n",
    "    \n",
    "    model.fit(x_train,y_train,epochs=epochs,batch_size=batch,callbacks=callbacks)\n",
    "    score=model.evaluate(x_val,y_val,verbose=1)\n",
    "    y_pred=model.predict(x_val)\n",
    "    r2=r2_score(y_val,y_pred)\n",
    "    print(\"Validation R²:\", r2)\n",
    "    print(\"Validation loss (MSE):\", score[0])\n",
    "    print(\"Validation RMSE:\", score[1])\n",
    "    print(\"Validation MAE:\", score[2])\n",
    "    return model"
   ]
  },
  {
   "cell_type": "code",
   "execution_count": 35,
   "id": "183cc936",
   "metadata": {
    "execution": {
     "iopub.execute_input": "2025-03-24T19:25:28.228127Z",
     "iopub.status.busy": "2025-03-24T19:25:28.227777Z",
     "iopub.status.idle": "2025-03-24T19:25:28.231886Z",
     "shell.execute_reply": "2025-03-24T19:25:28.230942Z"
    },
    "papermill": {
     "duration": 0.020058,
     "end_time": "2025-03-24T19:25:28.233364",
     "exception": false,
     "start_time": "2025-03-24T19:25:28.213306",
     "status": "completed"
    },
    "tags": []
   },
   "outputs": [],
   "source": [
    "EPOCHS=50\n",
    "BATCH=64\n",
    "#medium_nn=medium_dense(x_train,y_train,x_val,y_val,epochs=EPOCHS,batch=BATCH)\n",
    "#medium_nn"
   ]
  },
  {
   "cell_type": "markdown",
   "id": "3da69d43",
   "metadata": {
    "papermill": {
     "duration": 0.012456,
     "end_time": "2025-03-24T19:25:28.259592",
     "exception": false,
     "start_time": "2025-03-24T19:25:28.247136",
     "status": "completed"
    },
    "tags": []
   },
   "source": [
    "After a trial-and-error approach to identify possible improvements to the neural network, I can conclude that on average the data for this context prefers a simpler NN over a more complex and structured one. On top of that, xgb is still performing much better"
   ]
  },
  {
   "cell_type": "markdown",
   "id": "30a8192e",
   "metadata": {
    "papermill": {
     "duration": 0.012389,
     "end_time": "2025-03-24T19:25:28.284794",
     "exception": false,
     "start_time": "2025-03-24T19:25:28.272405",
     "status": "completed"
    },
    "tags": []
   },
   "source": [
    "# KNN regressor"
   ]
  },
  {
   "cell_type": "markdown",
   "id": "3b8ac8c5",
   "metadata": {
    "papermill": {
     "duration": 0.012614,
     "end_time": "2025-03-24T19:25:28.310076",
     "exception": false,
     "start_time": "2025-03-24T19:25:28.297462",
     "status": "completed"
    },
    "tags": []
   },
   "source": [
    "The idea behind this implementation choice is that we want to understand if the neighborhood of the covariates of a value is able to correctly identify the target value. This means that we want to understand if there is something that can be considered as a local clustering factor that can determine the final output: close values in the covariates lead to similar values in the target.\n",
    "\n",
    "Considering that knn is highly sensitive to the way the distance is calculated and also to the data structure, I decided to implement a begging approach by selecting several possible subsets of covariates to use for the regression. The reason for this choice is that a high dimensionality can increase the overall distance between two points by reducing the \"relevance\" of the neighborhood\n",
    "\n",
    "Due to the high computational cost for knn with large datasets, to address this problem I decided to use a bagging strategy by selecting at each iteration a strongly reduced number of the available observations. Having more time and resources available, one could test the performance by exploiting a larger sampling"
   ]
  },
  {
   "cell_type": "code",
   "execution_count": 36,
   "id": "d1065e0a",
   "metadata": {
    "execution": {
     "iopub.execute_input": "2025-03-24T19:25:28.336696Z",
     "iopub.status.busy": "2025-03-24T19:25:28.336323Z",
     "iopub.status.idle": "2025-03-24T19:25:29.158150Z",
     "shell.execute_reply": "2025-03-24T19:25:29.157149Z"
    },
    "papermill": {
     "duration": 0.837336,
     "end_time": "2025-03-24T19:25:29.160087",
     "exception": false,
     "start_time": "2025-03-24T19:25:28.322751",
     "status": "completed"
    },
    "tags": []
   },
   "outputs": [],
   "source": [
    "scaler = StandardScaler(copy=False)  \n",
    "scaler.fit(x_train) \n",
    "\n",
    "x_train_scaled = scaler.transform(x_train)\n",
    "x_val_scaled = scaler.transform(x_val)\n",
    "\n",
    "x_train_scaled = pd.DataFrame(x_train_scaled, index=x_train.index, columns=x_train.columns)\n",
    "x_val_scaled = pd.DataFrame(x_val_scaled, index=x_val.index, columns=x_val.columns)\n"
   ]
  },
  {
   "cell_type": "code",
   "execution_count": 37,
   "id": "ffd62734",
   "metadata": {
    "execution": {
     "iopub.execute_input": "2025-03-24T19:25:29.187818Z",
     "iopub.status.busy": "2025-03-24T19:25:29.187406Z",
     "iopub.status.idle": "2025-03-24T19:25:29.195547Z",
     "shell.execute_reply": "2025-03-24T19:25:29.194546Z"
    },
    "papermill": {
     "duration": 0.024019,
     "end_time": "2025-03-24T19:25:29.197405",
     "exception": false,
     "start_time": "2025-03-24T19:25:29.173386",
     "status": "completed"
    },
    "tags": []
   },
   "outputs": [],
   "source": [
    "\n",
    "\n",
    "def multiple_knn(x_train, y_train, x_val, y_val, parameters, max_iteration):\n",
    "    base_knn = KNeighborsRegressor()\n",
    "    print(f\"Inizializzazione BaggingRegressor...\")\n",
    "    \n",
    "    bagging_knn = BaggingRegressor(\n",
    "        estimator=base_knn, \n",
    "        bootstrap_features=True,\n",
    "        bootstrap=True,\n",
    "        n_jobs=-1\n",
    "    )\n",
    "\n",
    "    print(f\"Eseguendo Grid Search...\")\n",
    "    grid_search = GridSearchCV(bagging_knn, param_grid=parameters, cv=3, verbose=1)\n",
    "    grid_search.fit(x_train, y_train) \n",
    "\n",
    "    print(f\"Best params: {grid_search.best_params_} ; Best score: {grid_search.best_score_}\")\n",
    "\n",
    "    scores = []\n",
    "    mse_vals = []\n",
    "\n",
    "    for iteration in range(max_iteration):\n",
    "        print(f\"Iteration: {iteration+1}/{max_iteration}\")\n",
    "        sample_index = x_val.sample(frac=0.025).index\n",
    "        x_val_sample = x_val.loc[sample_index]\n",
    "        y_val_sample = y_val.loc[sample_index]\n",
    "\n",
    "        scores.append(grid_search.score(x_val_sample, y_val_sample))\n",
    "        mse_vals.append(metrics.mean_squared_error(y_val_sample, grid_search.predict(x_val_sample)))\n",
    "\n",
    "    final_score = np.mean(scores)\n",
    "    final_mse = np.mean(mse_vals)\n",
    "    print(f\"Final R2: {final_score}\\nFinal MSE: {final_mse}\")\n",
    "\n",
    "    return grid_search.best_estimator_\n",
    "\n",
    "\n",
    "\n",
    "\n",
    "\n",
    "\n",
    "parameters = {\n",
    "    'estimator__n_neighbors': [5], \n",
    "    'n_estimators': [40],\n",
    "    'estimator__weights': ['distance'],\n",
    "    'max_samples': [0.025]\n",
    "}\n",
    "\n",
    "\n",
    "\n",
    "\n",
    "#model_knn = multiple_knn(x_train_scaled, y_train, x_val_scaled, y_val, parameters, max_iteration=10)\n"
   ]
  },
  {
   "cell_type": "markdown",
   "id": "a29e2f57",
   "metadata": {
    "papermill": {
     "duration": 0.012241,
     "end_time": "2025-03-24T19:25:29.222530",
     "exception": false,
     "start_time": "2025-03-24T19:25:29.210289",
     "status": "completed"
    },
    "tags": []
   },
   "source": [
    "Best params: {'estimator__n_neighbors': 5, 'estimator__weights': 'distance', 'max_samples': 0.025, 'n_estimators': 40} ; Best score: 0.27298208496634063\n",
    "\n",
    "\n",
    "Final R2: 0.2509235655876286\n",
    "Final MSE: 102214.99040046075\n",
    "\n",
    "As expected we have low performances compared to the others"
   ]
  },
  {
   "cell_type": "markdown",
   "id": "a8c1dc40",
   "metadata": {
    "papermill": {
     "duration": 0.013046,
     "end_time": "2025-03-24T19:25:29.248242",
     "exception": false,
     "start_time": "2025-03-24T19:25:29.235196",
     "status": "completed"
    },
    "tags": []
   },
   "source": [
    "# DENSE_NN+XGB"
   ]
  },
  {
   "cell_type": "markdown",
   "id": "090410d9",
   "metadata": {
    "papermill": {
     "duration": 0.013994,
     "end_time": "2025-03-24T19:25:29.276184",
     "exception": false,
     "start_time": "2025-03-24T19:25:29.262190",
     "status": "completed"
    },
    "tags": []
   },
   "source": [
    "Now I try to mix the results of the dense nn and xgb, which means that now I want to use a dense nn, starting from the previously created simple dense, and use it as a pre-processing tool to extract the relevant features from the data (the output of the final layer nodes) and use it in xgboost"
   ]
  },
  {
   "cell_type": "code",
   "execution_count": 38,
   "id": "7fd39eec",
   "metadata": {
    "execution": {
     "iopub.execute_input": "2025-03-24T19:25:29.303951Z",
     "iopub.status.busy": "2025-03-24T19:25:29.303534Z",
     "iopub.status.idle": "2025-03-24T19:25:29.312023Z",
     "shell.execute_reply": "2025-03-24T19:25:29.310790Z"
    },
    "papermill": {
     "duration": 0.024567,
     "end_time": "2025-03-24T19:25:29.313953",
     "exception": false,
     "start_time": "2025-03-24T19:25:29.289386",
     "status": "completed"
    },
    "tags": []
   },
   "outputs": [],
   "source": [
    "def simple_dense_v2(x_train, y_train, x_val, y_val):\n",
    "    # Input layer\n",
    "    inputs = layers.Input(shape=(x_train.shape[1],))\n",
    "\n",
    "    # Hidden layers\n",
    "    x = layers.Dense(64, activation='relu')(inputs)\n",
    "    x = layers.Dense(64, activation='relu')(x)\n",
    "    x = layers.Dropout(0.3)(x)\n",
    "    x = layers.Dense(32, activation='relu')(x)\n",
    "    xgb_input = layers.Dense(16, activation='relu', name='xgb_input')(x)\n",
    "    output = layers.Dense(1)(xgb_input)  # Output layer\n",
    "\n",
    "    # build the model\n",
    "    model = Model(inputs=inputs, outputs=output)\n",
    "\n",
    "    \n",
    "    model.summary()\n",
    "\n",
    "    # compile\n",
    "    optimizer = tf.keras.optimizers.Adam(learning_rate=0.00001)\n",
    "    model.compile(loss='mean_squared_error', optimizer=optimizer)\n",
    "    \n",
    "    # train\n",
    "    model.fit(x_train, y_train, epochs=20, batch_size=32, verbose=1)\n",
    "    \n",
    "    # force the model initialization\n",
    "    _ = model.predict(x_train[:1]) \n",
    "\n",
    "    # get the intermediate layer\n",
    "    xgb_input_layer = Model(inputs=model.input, outputs=model.get_layer('xgb_input').output)\n",
    "\n",
    "    # evaluation\n",
    "    score = model.evaluate(x_val, y_val, verbose=1)\n",
    "    print(\"Validation loss:\", score)\n",
    "\n",
    "    # get the output of the intermediate layer\n",
    "    xgb_input = xgb_input_layer.predict(x_train)\n",
    "    xgb_input_val = xgb_input_layer.predict(x_val)\n",
    "\n",
    "    \n",
    "    return xgb_input,xgb_input_val\n",
    "\n"
   ]
  },
  {
   "cell_type": "code",
   "execution_count": 39,
   "id": "0584d7f9",
   "metadata": {
    "execution": {
     "iopub.execute_input": "2025-03-24T19:25:29.342614Z",
     "iopub.status.busy": "2025-03-24T19:25:29.342237Z",
     "iopub.status.idle": "2025-03-24T19:25:29.346460Z",
     "shell.execute_reply": "2025-03-24T19:25:29.345329Z"
    },
    "papermill": {
     "duration": 0.020502,
     "end_time": "2025-03-24T19:25:29.348252",
     "exception": false,
     "start_time": "2025-03-24T19:25:29.327750",
     "status": "completed"
    },
    "tags": []
   },
   "outputs": [],
   "source": [
    "#xgb_input,xgb_input_val=simple_dense_v2(x_train,y_train,x_val,y_val)"
   ]
  },
  {
   "cell_type": "markdown",
   "id": "edabe9d9",
   "metadata": {
    "papermill": {
     "duration": 0.012134,
     "end_time": "2025-03-24T19:25:29.373320",
     "exception": false,
     "start_time": "2025-03-24T19:25:29.361186",
     "status": "completed"
    },
    "tags": []
   },
   "source": [
    "Epoch 20/20 86585/86585 ━━━━━━━━━━━━━━━━━━━━ 114s 1ms/step - loss: 52824.0977 1/1 ━━━━━━━━━━━━━━━━━━━━ 0s 174ms/step 37108/37108 ━━━━━━━━━━━━━━━━━━━━ 40s 1ms/step - loss: 46614.1758 Validation loss: 46854.7421875"
   ]
  },
  {
   "cell_type": "code",
   "execution_count": 40,
   "id": "ef3714ee",
   "metadata": {
    "execution": {
     "iopub.execute_input": "2025-03-24T19:25:29.399899Z",
     "iopub.status.busy": "2025-03-24T19:25:29.399485Z",
     "iopub.status.idle": "2025-03-24T19:25:29.404351Z",
     "shell.execute_reply": "2025-03-24T19:25:29.403278Z"
    },
    "papermill": {
     "duration": 0.020398,
     "end_time": "2025-03-24T19:25:29.406212",
     "exception": false,
     "start_time": "2025-03-24T19:25:29.385814",
     "status": "completed"
    },
    "tags": []
   },
   "outputs": [],
   "source": [
    "\n",
    "xgb_model=xgb.XGBRegressor()\n",
    "parameters={\n",
    "    'objective':['reg:squarederror'],\n",
    "    'n_estimators':[300,500,1000],\n",
    "    'learning_rate':[0.5,0.6,0.7],\n",
    "    'eval_metric': ['error'],\n",
    "    'gamma':[0.001,0.01,0.05] \n",
    "}\n",
    "#xgb_densenn_model=model_implementation(xgb_input,y_train,xgb_input_val,y_val,parameters,xgb_densenn)"
   ]
  },
  {
   "cell_type": "markdown",
   "id": "32bd7dd5",
   "metadata": {
    "papermill": {
     "duration": 0.013207,
     "end_time": "2025-03-24T19:25:29.432152",
     "exception": false,
     "start_time": "2025-03-24T19:25:29.418945",
     "status": "completed"
    },
    "tags": []
   },
   "source": [
    "Best params : {'eval_metric': 'error', 'gamma': 0.001, 'learning_rate': 0.5, 'n_estimators': 1000, 'objective': 'reg:squarederror'} ; Best score : 0.7774880404842519\n",
    "\n",
    "R2 : 0.7881326072423618\n",
    "\n",
    "train : MSE 21349.492027151264 ; R2 0.8356383217299568 ; test : MSE 28517.69015114946 ; R2 0.7881326072423618"
   ]
  },
  {
   "cell_type": "markdown",
   "id": "0e5162b6",
   "metadata": {
    "papermill": {
     "duration": 0.012432,
     "end_time": "2025-03-24T19:25:29.458179",
     "exception": false,
     "start_time": "2025-03-24T19:25:29.445747",
     "status": "completed"
    },
    "tags": []
   },
   "source": [
    "Even though the overall mse is lower than a dense nn, the final result is still much worse than a standard xgb.\n",
    "\n",
    "For this reason I decided to conclude the analysis by adjusting the parameters of the xgb model."
   ]
  },
  {
   "cell_type": "code",
   "execution_count": 41,
   "id": "c70cfb0a",
   "metadata": {
    "execution": {
     "iopub.execute_input": "2025-03-24T19:25:29.487079Z",
     "iopub.status.busy": "2025-03-24T19:25:29.486710Z",
     "iopub.status.idle": "2025-03-24T19:25:29.491302Z",
     "shell.execute_reply": "2025-03-24T19:25:29.490172Z"
    },
    "papermill": {
     "duration": 0.019966,
     "end_time": "2025-03-24T19:25:29.493067",
     "exception": false,
     "start_time": "2025-03-24T19:25:29.473101",
     "status": "completed"
    },
    "tags": []
   },
   "outputs": [],
   "source": [
    "parameters={\n",
    "    'objective':['reg:squarederror'],\n",
    "    'n_estimators':[800,1000],\n",
    "    'learning_rate':[0.4,0.5],\n",
    "    'eval_metric': ['error'],\n",
    "    'gamma':[0.001] \n",
    "}\n",
    "#xgb_model2=model_implementation(x_train,y_train,x_val,y_val,parameters,xgb_model)"
   ]
  },
  {
   "cell_type": "markdown",
   "id": "4b429d6b",
   "metadata": {
    "papermill": {
     "duration": 0.012112,
     "end_time": "2025-03-24T19:25:29.518071",
     "exception": false,
     "start_time": "2025-03-24T19:25:29.505959",
     "status": "completed"
    },
    "tags": []
   },
   "source": [
    "Best params : {'eval_metric': 'error', 'gamma': 0.001, 'learning_rate': 0.4, 'n_estimators': 1000, 'objective': 'reg:squarederror'} ; Best score : 0.9685390511029635\n",
    "\n",
    " R2 : 0.9700304459219002\n",
    "\n",
    " train :\n",
    " MSE 2379.8666321978226 ; \n",
    "R2 0.9816783053559563 ; \n",
    " test : \n",
    "MSE 4033.9499440814975 ; \n",
    "R2 0.9700304459219002"
   ]
  },
  {
   "cell_type": "markdown",
   "id": "9000f566",
   "metadata": {
    "papermill": {
     "duration": 0.012263,
     "end_time": "2025-03-24T19:25:29.543298",
     "exception": false,
     "start_time": "2025-03-24T19:25:29.531035",
     "status": "completed"
    },
    "tags": []
   },
   "source": [
    "# Results analysis and final considerations"
   ]
  },
  {
   "cell_type": "code",
   "execution_count": 42,
   "id": "7e591a82",
   "metadata": {
    "execution": {
     "iopub.execute_input": "2025-03-24T19:25:29.569950Z",
     "iopub.status.busy": "2025-03-24T19:25:29.569495Z",
     "iopub.status.idle": "2025-03-24T19:25:29.625279Z",
     "shell.execute_reply": "2025-03-24T19:25:29.624014Z"
    },
    "papermill": {
     "duration": 0.07139,
     "end_time": "2025-03-24T19:25:29.627196",
     "exception": false,
     "start_time": "2025-03-24T19:25:29.555806",
     "status": "completed"
    },
    "tags": []
   },
   "outputs": [
    {
     "data": {
      "text/plain": [
       "(0.02,\n",
       " 13252.94,\n",
       " 110.22152543100836,\n",
       " 0    10.82\n",
       " 1    14.77\n",
       " Name: sales, dtype: float64,\n",
       " 24626.66,\n",
       " 0.03)"
      ]
     },
     "execution_count": 42,
     "metadata": {},
     "output_type": "execute_result"
    }
   ],
   "source": [
    "x_val['sell_price_main'].min(), x_val['sell_price_main'].max(),y_val.mean(),y_val.mode(),y_val.max(),y_val.min()\n"
   ]
  },
  {
   "cell_type": "markdown",
   "id": "32a0735a",
   "metadata": {
    "papermill": {
     "duration": 0.012722,
     "end_time": "2025-03-24T19:25:29.652979",
     "exception": false,
     "start_time": "2025-03-24T19:25:29.640257",
     "status": "completed"
    },
    "tags": []
   },
   "source": [
    "0.02,\n",
    "\n",
    " 13252.94,\n",
    " \n",
    " 110.22152543100836,\n",
    " \n",
    " mean   10.82\n",
    " \n",
    " mode   14.77\n",
    " \n",
    " \n",
    " max    24626.66,\n",
    " \n",
    " min    0.03"
   ]
  },
  {
   "cell_type": "markdown",
   "id": "58018c4f",
   "metadata": {
    "papermill": {
     "duration": 0.012845,
     "end_time": "2025-03-24T19:25:29.679028",
     "exception": false,
     "start_time": "2025-03-24T19:25:29.666183",
     "status": "completed"
    },
    "tags": []
   },
   "source": [
    "Sales and price values are EXTREMELY variable, this means that an error of about 60 unit of sales is not necessarely a good or bad result, we need to contextualize it and go more in detail!!!"
   ]
  },
  {
   "cell_type": "code",
   "execution_count": 43,
   "id": "7f0740a1",
   "metadata": {
    "execution": {
     "iopub.execute_input": "2025-03-24T19:25:29.706808Z",
     "iopub.status.busy": "2025-03-24T19:25:29.706356Z",
     "iopub.status.idle": "2025-03-24T19:25:30.091906Z",
     "shell.execute_reply": "2025-03-24T19:25:30.090625Z"
    },
    "papermill": {
     "duration": 0.401709,
     "end_time": "2025-03-24T19:25:30.093981",
     "exception": false,
     "start_time": "2025-03-24T19:25:29.692272",
     "status": "completed"
    },
    "tags": []
   },
   "outputs": [],
   "source": [
    "y_val_lowsales = y_val.loc[y_val <= 10]\n",
    "x_val_lowsales = x_val.loc[y_val_lowsales.index]\n",
    "\n",
    "y_val_mediumsales = y_val.loc[(y_val > 10) & (y_val < 100)]\n",
    "x_val_mediumsales = x_val.loc[y_val_mediumsales.index]\n",
    "\n",
    "y_val_medium_highsales = y_val.loc[(y_val >= 100) & (y_val < 1000)]\n",
    "x_val_medium_highsales = x_val.loc[y_val_medium_highsales.index]  # Corretto!\n",
    "\n",
    "y_val_highsales = y_val.loc[(y_val >= 1000) & (y_val < 4000)]\n",
    "x_val_highsales = x_val.loc[y_val_highsales.index]\n",
    "\n",
    "y_val_superhighsales = y_val.loc[(y_val >= 4000) & (y_val < 10000)]\n",
    "x_val_superhighsales = x_val.loc[y_val_superhighsales.index]\n",
    "\n",
    "y_val_extreme = y_val.loc[y_val >= 10000]\n",
    "x_val_extreme = x_val.loc[y_val_extreme.index]"
   ]
  },
  {
   "cell_type": "code",
   "execution_count": 44,
   "id": "d9330c8e",
   "metadata": {
    "execution": {
     "iopub.execute_input": "2025-03-24T19:25:30.122230Z",
     "iopub.status.busy": "2025-03-24T19:25:30.121860Z",
     "iopub.status.idle": "2025-03-24T19:25:30.127748Z",
     "shell.execute_reply": "2025-03-24T19:25:30.126789Z"
    },
    "papermill": {
     "duration": 0.021831,
     "end_time": "2025-03-24T19:25:30.129324",
     "exception": false,
     "start_time": "2025-03-24T19:25:30.107493",
     "status": "completed"
    },
    "tags": []
   },
   "outputs": [
    {
     "data": {
      "text/plain": [
       "'\\nMSE_low = metrics.mean_squared_error(y_val_lowsales, xgb_model2.predict(x_val_lowsales), squared=False)\\nMSE_medium = metrics.mean_squared_error(y_val_mediumsales, xgb_model2.predict(x_val_mediumsales), squared=False)\\nMSE_mediumhigh = metrics.mean_squared_error(y_val_medium_highsales, xgb_model2.predict(x_val_medium_highsales), squared=False)\\nMSE_high = metrics.mean_squared_error(y_val_highsales, xgb_model2.predict(x_val_highsales), squared=False)\\nMSE_superhigh = metrics.mean_squared_error(y_val_superhighsales, xgb_model2.predict(x_val_superhighsales), squared=False)\\nMSE_extreme = metrics.mean_squared_error(y_val_extreme, xgb_model2.predict(x_val_extreme), squared=False)\\nprint(f\"MSE_low :{MSE_low}\\n MSE_medium : {MSE_medium}\\n MSE_high : {MSE_high}\\n MSE_mediumhigh : {MSE_mediumhigh}\\nMSE_superhigh : {MSE_superhigh}\\nMSE_extreme :{MSE_extreme}\")\\n'"
      ]
     },
     "execution_count": 44,
     "metadata": {},
     "output_type": "execute_result"
    }
   ],
   "source": [
    "'''\n",
    "MSE_low = metrics.mean_squared_error(y_val_lowsales, xgb_model2.predict(x_val_lowsales), squared=False)\n",
    "MSE_medium = metrics.mean_squared_error(y_val_mediumsales, xgb_model2.predict(x_val_mediumsales), squared=False)\n",
    "MSE_mediumhigh = metrics.mean_squared_error(y_val_medium_highsales, xgb_model2.predict(x_val_medium_highsales), squared=False)\n",
    "MSE_high = metrics.mean_squared_error(y_val_highsales, xgb_model2.predict(x_val_highsales), squared=False)\n",
    "MSE_superhigh = metrics.mean_squared_error(y_val_superhighsales, xgb_model2.predict(x_val_superhighsales), squared=False)\n",
    "MSE_extreme = metrics.mean_squared_error(y_val_extreme, xgb_model2.predict(x_val_extreme), squared=False)\n",
    "print(f\"MSE_low :{MSE_low}\\n MSE_medium : {MSE_medium}\\n MSE_high : {MSE_high}\\n MSE_mediumhigh : {MSE_mediumhigh}\\nMSE_superhigh : {MSE_superhigh}\\nMSE_extreme :{MSE_extreme}\")\n",
    "'''"
   ]
  },
  {
   "cell_type": "markdown",
   "id": "5cb69bb3",
   "metadata": {
    "papermill": {
     "duration": 0.012539,
     "end_time": "2025-03-24T19:25:30.155005",
     "exception": false,
     "start_time": "2025-03-24T19:25:30.142466",
     "status": "completed"
    },
    "tags": []
   },
   "source": [
    "MSE_low :36.5042570240523\n",
    "\n",
    " MSE_medium : 25.653363097204657\n",
    " \n",
    " MSE_high : 304.6373496503325\n",
    " \n",
    " MSE_mediumhigh : 76.2157853007747\n",
    " \n",
    "MSE_superhigh : 765.5705004874789\n",
    "\n",
    "MSE_extreme :1446.4834256880717"
   ]
  },
  {
   "cell_type": "markdown",
   "id": "f9ab7d81",
   "metadata": {
    "papermill": {
     "duration": 0.012429,
     "end_time": "2025-03-24T19:25:30.180268",
     "exception": false,
     "start_time": "2025-03-24T19:25:30.167839",
     "status": "completed"
    },
    "tags": []
   },
   "source": [
    " FINAL COMMENT\n",
    "as we can see there is a lot of variability for the error term\n",
    "even if some values could be acceptable it is necessary to go into even more detail in the metric evaluation.\n",
    "From the result we can see that some error terms are clearly not acceptable for example MSE_low is calculated starting from <1 sales (which we do not know if they are acceptable values or not as they could be measured in kg and not in units) but an error of about 37, this means that on average for low sales we predict much more than the real value.\n",
    "on the other hand for higher values this problem seems to be partially flattened but a more in-depth (and probably time-consuming) analysis should be necessary\n",
    "\n",
    "This comment is to show how the original output is useless if you do not pay attention to understand its meaning"
   ]
  },
  {
   "cell_type": "markdown",
   "id": "9b965e83",
   "metadata": {
    "papermill": {
     "duration": 0.012455,
     "end_time": "2025-03-24T19:25:30.205655",
     "exception": false,
     "start_time": "2025-03-24T19:25:30.193200",
     "status": "completed"
    },
    "tags": []
   },
   "source": [
    "# Possible development \n",
    "\n",
    "As just shown above, it is necessary to take into account the extreme variability of sales. To address this problem, a possible approach could be to identify significant clusters and perform different analyses for each of them (for example, clusters of records based on price-sales or product-price relationships).\n",
    "\n",
    "If this is not enough, it may be necessary to have more information about the acceptable range of sales to understand how to behave with respect to those extreme values."
   ]
  },
  {
   "cell_type": "code",
   "execution_count": null,
   "id": "26ea8ce9",
   "metadata": {
    "papermill": {
     "duration": 0.012505,
     "end_time": "2025-03-24T19:25:30.230964",
     "exception": false,
     "start_time": "2025-03-24T19:25:30.218459",
     "status": "completed"
    },
    "tags": []
   },
   "outputs": [],
   "source": [
    "\n"
   ]
  }
 ],
 "metadata": {
  "kaggle": {
   "accelerator": "none",
   "dataSources": [
    {
     "databundleVersionId": 10173359,
     "sourceId": 88742,
     "sourceType": "competition"
    }
   ],
   "dockerImageVersionId": 30918,
   "isGpuEnabled": false,
   "isInternetEnabled": true,
   "language": "python",
   "sourceType": "notebook"
  },
  "kernelspec": {
   "display_name": "Python 3",
   "language": "python",
   "name": "python3"
  },
  "language_info": {
   "codemirror_mode": {
    "name": "ipython",
    "version": 3
   },
   "file_extension": ".py",
   "mimetype": "text/x-python",
   "name": "python",
   "nbconvert_exporter": "python",
   "pygments_lexer": "ipython3",
   "version": "3.10.12"
  },
  "papermill": {
   "default_parameters": {},
   "duration": 75.124481,
   "end_time": "2025-03-24T19:25:32.773158",
   "environment_variables": {},
   "exception": null,
   "input_path": "__notebook__.ipynb",
   "output_path": "__notebook__.ipynb",
   "parameters": {},
   "start_time": "2025-03-24T19:24:17.648677",
   "version": "2.6.0"
  }
 },
 "nbformat": 4,
 "nbformat_minor": 5
}
